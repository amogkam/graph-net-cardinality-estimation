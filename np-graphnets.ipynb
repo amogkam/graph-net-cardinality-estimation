{
 "cells": [
  {
   "cell_type": "code",
   "execution_count": 422,
   "metadata": {},
   "outputs": [],
   "source": [
    "import pandas as pd\n",
    "import numpy as np"
   ]
  },
  {
   "cell_type": "code",
   "execution_count": 849,
   "metadata": {},
   "outputs": [],
   "source": [
    "training_cards = []"
   ]
  },
  {
   "cell_type": "code",
   "execution_count": 880,
   "metadata": {},
   "outputs": [],
   "source": [
    "def sample_uniform(n, maxVal):\n",
    "    return np.random.choice(np.arange(maxVal), n)\n",
    "\n",
    "def featurize(arr):\n",
    "    histogram = np.histogram(arr, bins=np.arange(0,10,1))\n",
    "    return histogram[0].astype(float)"
   ]
  },
  {
   "cell_type": "code",
   "execution_count": 881,
   "metadata": {},
   "outputs": [],
   "source": [
    "test = []\n",
    "for _ in range(15):\n",
    "    t = sample_uniform(100, 10)\n",
    "    #t = np.random.uniform(size=100)\n",
    "    # = np.random.zipf(1.001, 100)\n",
    "    test.append((t, featurize(t)))"
   ]
  },
  {
   "cell_type": "code",
   "execution_count": 882,
   "metadata": {},
   "outputs": [],
   "source": [
    "def cardinality(a1, a2):\n",
    "    \"\"\"Takes 2 numpy arrays and returns the cardinality of the join\"\"\"\n",
    "    df1 = pd.DataFrame(a1, columns=['a'])\n",
    "    df2 = pd.DataFrame(a2, columns=['a'])\n",
    "    joined = pd.merge(df1, df2, on='a', how='inner')\n",
    "    return len(joined.index)"
   ]
  },
  {
   "cell_type": "markdown",
   "metadata": {},
   "source": [
    "## Graph Nets"
   ]
  },
  {
   "cell_type": "code",
   "execution_count": 884,
   "metadata": {},
   "outputs": [],
   "source": [
    "import collections\n",
    "import time\n",
    "\n",
    "#from graph_nets import utils_np\n",
    "# from graph_nets import utils_tf\n",
    "# from graph_nets.demos import models\n",
    "import graph_nets.utils_np as utils_np\n",
    "import graph_nets.utils_tf as utils_tf\n",
    "import graph_nets.demos.models as models\n",
    "import matplotlib.pyplot as plt\n",
    "import tensorflow as tf\n",
    "import itertools\n",
    "import importlib"
   ]
  },
  {
   "cell_type": "code",
   "execution_count": 885,
   "metadata": {},
   "outputs": [
    {
     "data": {
      "text/plain": [
       "3"
      ]
     },
     "execution_count": 885,
     "metadata": {},
     "output_type": "execute_result"
    }
   ],
   "source": [
    "models = importlib.reload(models)\n",
    "models.NUM_LAYERS"
   ]
  },
  {
   "cell_type": "code",
   "execution_count": 886,
   "metadata": {},
   "outputs": [],
   "source": [
    "def create_graph_dicts(num_examples, testing=False):\n",
    "    input_graphs = []\n",
    "    cardinalities = []\n",
    "    if(testing):\n",
    "        assert(num_examples == 105)\n",
    "        for combo in list(itertools.combinations(range(15), 2)):\n",
    "            i1 = combo[0]\n",
    "            i2 = combo[1]\n",
    "            data1 = test[i1][0]\n",
    "            data2 = test[i2][0]\n",
    "            features1 = test[i1][1]\n",
    "            features2 = test[i2][1]\n",
    "            card = cardinality(data1, data2)\n",
    "            input_graphs.append({\"nodes\": np.array([features1, features2]), \"receivers\": [0, 1], \"senders\": [1, 0]})\n",
    "            cardinalities.append(card)\n",
    "    else:\n",
    "        for _ in range(num_examples):\n",
    "            f = True\n",
    "            #while(f):\n",
    "            data1 = sample_uniform(100, 10)\n",
    "            data2 = sample_uniform(100, 10)\n",
    "            #data1, data2 = sample_correlated()\n",
    "            features1 = featurize(data1)\n",
    "            features2 = featurize(data2)\n",
    "            card = cardinality(data1, data2)\n",
    "                #if(card <= 950): f = False\n",
    "            input_graphs.append({\"nodes\": np.array([features1, features2]), \"receivers\": [0, 1], \"senders\": [1, 0]})\n",
    "            cardinalities.append(card)\n",
    "            training_cards.append(card)\n",
    "    return input_graphs, cardinalities"
   ]
  },
  {
   "cell_type": "code",
   "execution_count": 887,
   "metadata": {},
   "outputs": [],
   "source": [
    "def create_target_dicts(batch_size, input_dicts, estimated_cards):\n",
    "    target_dicts = []\n",
    "    for i in range(batch_size):\n",
    "        cardinality = estimated_cards[i]\n",
    "        edges = [[cardinality], [cardinality]]\n",
    "        #a = np.zeros(26)\n",
    "        #a[cardinality] = 1\n",
    "        #edges = np.array([a, a])\n",
    "        target_dict = input_dicts[i].copy()\n",
    "        #target_dict['nodes'] = edges\n",
    "        target_dict['edges'] = edges\n",
    "        target_dicts.append(target_dict)\n",
    "    return target_dicts"
   ]
  },
  {
   "cell_type": "code",
   "execution_count": 888,
   "metadata": {},
   "outputs": [],
   "source": [
    "def create_data_ops(batch_size, testing=False):\n",
    "    inputs_op, estimated_cards = create_graph_dicts(batch_size, testing)\n",
    "    \n",
    "    targets_op = create_target_dicts(batch_size, inputs_op, estimated_cards)\n",
    "    \n",
    "    return inputs_op, targets_op"
   ]
  },
  {
   "cell_type": "code",
   "execution_count": 889,
   "metadata": {},
   "outputs": [],
   "source": [
    "def create_placeholders(batch_size):\n",
    "    \"\"\"Creates placeholders for the model training and evaluation\"\"\"\n",
    "    input_graphs, target_graphs = create_data_ops(batch_size)\n",
    "    input_ph = utils_tf.placeholders_from_data_dicts(input_graphs, force_dynamic_num_graphs=True)\n",
    "    target_ph = utils_tf.placeholders_from_data_dicts(target_graphs, force_dynamic_num_graphs=True)\n",
    "    return input_ph, target_ph"
   ]
  },
  {
   "cell_type": "code",
   "execution_count": 890,
   "metadata": {},
   "outputs": [],
   "source": [
    "def create_feed_dict(batch_size, input_ph, target_ph, testing=False):\n",
    "    inputs_graphs, target_graphs = create_data_ops(batch_size, testing)\n",
    "    input_graphs = utils_np.data_dicts_to_graphs_tuple(inputs_graphs)\n",
    "    target_graphs = utils_np.data_dicts_to_graphs_tuple(target_graphs)\n",
    "\n",
    "    feed_dict_input = utils_tf.get_feed_dict(input_ph, input_graphs)\n",
    "    feed_dict_target = utils_tf.get_feed_dict(target_ph, target_graphs)\n",
    "    feed_dict = {**feed_dict_input, **feed_dict_target}\n",
    "    return feed_dict"
   ]
  },
  {
   "cell_type": "code",
   "execution_count": 891,
   "metadata": {},
   "outputs": [],
   "source": [
    "def make_all_runnable_in_session(*args):\n",
    "    return [utils_tf.make_runnable_in_session(a) for a in args]"
   ]
  },
  {
   "cell_type": "code",
   "execution_count": 892,
   "metadata": {},
   "outputs": [],
   "source": [
    "tf.reset_default_graph()\n",
    "input_ph, target_ph = create_placeholders(1)\n",
    "input_out, target_out = make_all_runnable_in_session(input_ph, target_ph)"
   ]
  },
  {
   "cell_type": "code",
   "execution_count": 893,
   "metadata": {},
   "outputs": [
    {
     "name": "stdout",
     "output_type": "stream",
     "text": [
      "Input Graphs:  GraphsTuple(nodes=array([[ 0.,  7.,  1.,  3.,  3.,  2.,  4.,  6.,  1.,  5.,  0.,  5.,  2.,\n",
      "         4.,  0.,  7.,  3.,  3.,  7.,  2.,  4.,  4.,  8.,  3.,  0.,  3.,\n",
      "         1.,  8.,  1.,  6.,  5.,  4.,  1.,  2.,  0.,  2.,  9.,  2.,  3.,\n",
      "         8.,  2.,  4.,  1.,  9.,  1.,  9.,  6.,  0.,  2.,  1.,  0.,  7.,\n",
      "         2.,  0.,  8.,  4.,  3.,  2.,  6.,  8.,  7.,  0.,  8.,  7.,  5.,\n",
      "         1.,  8.,  1.,  1.,  8.,  4.,  1.,  8.,  0.,  4.,  4.,  2.,  9.,\n",
      "         9.,  8.,  8.,  3.,  3.,  6.,  9.,  0.,  2.,  4.,  1.,  5.,  1.,\n",
      "         9.,  7.,  9.,  3.,  8.,  2.,  1.,  5.,  7.],\n",
      "       [ 3.,  2.,  4.,  8.,  1.,  4.,  7.,  5.,  6.,  7.,  8.,  0.,  4.,\n",
      "         1.,  3.,  4.,  4.,  4.,  0.,  4.,  3.,  0.,  0.,  9.,  2.,  2.,\n",
      "         0.,  6.,  7.,  0.,  9.,  1.,  6.,  1.,  1.,  3.,  8.,  6.,  5.,\n",
      "         6.,  1.,  5.,  4.,  9.,  9.,  5.,  7.,  3.,  4.,  2.,  1.,  7.,\n",
      "         6.,  1.,  4.,  5.,  2.,  3.,  4.,  2.,  1.,  2.,  1.,  0.,  8.,\n",
      "         4.,  3.,  3.,  9.,  0.,  2.,  3.,  8.,  4.,  5.,  7.,  0.,  9.,\n",
      "         8.,  9.,  7.,  4.,  4.,  3.,  2.,  0.,  6.,  8.,  7.,  7.,  6.,\n",
      "         2.,  1.,  2.,  5.,  4.,  1.,  1.,  7.,  9.]]), edges=None, receivers=array([0, 1], dtype=int32), senders=array([1, 0], dtype=int32), globals=None, n_node=array([2], dtype=int32), n_edge=array([2], dtype=int32))\n",
      "Target Graphs:  GraphsTuple(nodes=array([[ 0.,  7.,  1.,  3.,  3.,  2.,  4.,  6.,  1.,  5.,  0.,  5.,  2.,\n",
      "         4.,  0.,  7.,  3.,  3.,  7.,  2.,  4.,  4.,  8.,  3.,  0.,  3.,\n",
      "         1.,  8.,  1.,  6.,  5.,  4.,  1.,  2.,  0.,  2.,  9.,  2.,  3.,\n",
      "         8.,  2.,  4.,  1.,  9.,  1.,  9.,  6.,  0.,  2.,  1.,  0.,  7.,\n",
      "         2.,  0.,  8.,  4.,  3.,  2.,  6.,  8.,  7.,  0.,  8.,  7.,  5.,\n",
      "         1.,  8.,  1.,  1.,  8.,  4.,  1.,  8.,  0.,  4.,  4.,  2.,  9.,\n",
      "         9.,  8.,  8.,  3.,  3.,  6.,  9.,  0.,  2.,  4.,  1.,  5.,  1.,\n",
      "         9.,  7.,  9.,  3.,  8.,  2.,  1.,  5.,  7.],\n",
      "       [ 3.,  2.,  4.,  8.,  1.,  4.,  7.,  5.,  6.,  7.,  8.,  0.,  4.,\n",
      "         1.,  3.,  4.,  4.,  4.,  0.,  4.,  3.,  0.,  0.,  9.,  2.,  2.,\n",
      "         0.,  6.,  7.,  0.,  9.,  1.,  6.,  1.,  1.,  3.,  8.,  6.,  5.,\n",
      "         6.,  1.,  5.,  4.,  9.,  9.,  5.,  7.,  3.,  4.,  2.,  1.,  7.,\n",
      "         6.,  1.,  4.,  5.,  2.,  3.,  4.,  2.,  1.,  2.,  1.,  0.,  8.,\n",
      "         4.,  3.,  3.,  9.,  0.,  2.,  3.,  8.,  4.,  5.,  7.,  0.,  9.,\n",
      "         8.,  9.,  7.,  4.,  4.,  3.,  2.,  0.,  6.,  8.,  7.,  7.,  6.,\n",
      "         2.,  1.,  2.,  5.,  4.,  1.,  1.,  7.,  9.]]), edges=array([[1044],\n",
      "       [1044]], dtype=int32), receivers=array([0, 1], dtype=int32), senders=array([1, 0], dtype=int32), globals=None, n_node=array([2], dtype=int32), n_edge=array([2], dtype=int32))\n",
      "Input Graphs:  GraphsTuple(nodes=array([[ 2.,  3.,  9.,  3.,  5.,  5.,  6.,  9.,  3.,  5.,  5.,  5.,  5.,\n",
      "         7.,  3.,  9.,  2.,  0.,  5.,  2.,  5.,  3.,  6.,  6.,  5.,  8.,\n",
      "         4.,  2.,  6.,  3.,  1.,  8.,  2.,  0.,  9.,  7.,  4.,  6.,  0.,\n",
      "         0.,  3.,  8.,  7.,  3.,  5.,  8.,  5.,  4.,  7.,  1.,  5.,  6.,\n",
      "         2.,  2.,  7.,  3.,  7.,  5.,  2.,  2.,  4.,  9.,  4.,  5.,  2.,\n",
      "         1.,  6.,  2.,  8.,  1.,  6.,  5.,  5.,  6.,  9.,  9.,  6.,  1.,\n",
      "         2.,  7.,  6.,  9.,  4.,  6.,  2.,  9.,  7.,  0.,  3.,  9.,  3.,\n",
      "         7.,  4.,  6.,  0.,  4.,  6.,  6.,  9.,  6.],\n",
      "       [ 2.,  7.,  1.,  1.,  2.,  8.,  8.,  8.,  3.,  3.,  3.,  3.,  1.,\n",
      "         7.,  7.,  8.,  1.,  6.,  4.,  6.,  6.,  1.,  6.,  2.,  4.,  7.,\n",
      "         0.,  0.,  4.,  2.,  0.,  2.,  4.,  6.,  0.,  3.,  3.,  1.,  1.,\n",
      "         2.,  9.,  1.,  5.,  1.,  0.,  3.,  8.,  3.,  6.,  2.,  3.,  4.,\n",
      "         6.,  4.,  5.,  4.,  0.,  7.,  4.,  6.,  8.,  1.,  0.,  5.,  8.,\n",
      "         4.,  0.,  6.,  3.,  9.,  8.,  2.,  4.,  0.,  3.,  2.,  9.,  1.,\n",
      "         6.,  6.,  7.,  0.,  0.,  9.,  1.,  3.,  8.,  2.,  9.,  8.,  2.,\n",
      "         7.,  8.,  3.,  6.,  7.,  8.,  9.,  4.,  4.]]), edges=None, receivers=array([0, 1], dtype=int32), senders=array([1, 0], dtype=int32), globals=None, n_node=array([2], dtype=int32), n_edge=array([2], dtype=int32))\n",
      "Target Graphs:  GraphsTuple(nodes=array([[ 2.,  3.,  9.,  3.,  5.,  5.,  6.,  9.,  3.,  5.,  5.,  5.,  5.,\n",
      "         7.,  3.,  9.,  2.,  0.,  5.,  2.,  5.,  3.,  6.,  6.,  5.,  8.,\n",
      "         4.,  2.,  6.,  3.,  1.,  8.,  2.,  0.,  9.,  7.,  4.,  6.,  0.,\n",
      "         0.,  3.,  8.,  7.,  3.,  5.,  8.,  5.,  4.,  7.,  1.,  5.,  6.,\n",
      "         2.,  2.,  7.,  3.,  7.,  5.,  2.,  2.,  4.,  9.,  4.,  5.,  2.,\n",
      "         1.,  6.,  2.,  8.,  1.,  6.,  5.,  5.,  6.,  9.,  9.,  6.,  1.,\n",
      "         2.,  7.,  6.,  9.,  4.,  6.,  2.,  9.,  7.,  0.,  3.,  9.,  3.,\n",
      "         7.,  4.,  6.,  0.,  4.,  6.,  6.,  9.,  6.],\n",
      "       [ 2.,  7.,  1.,  1.,  2.,  8.,  8.,  8.,  3.,  3.,  3.,  3.,  1.,\n",
      "         7.,  7.,  8.,  1.,  6.,  4.,  6.,  6.,  1.,  6.,  2.,  4.,  7.,\n",
      "         0.,  0.,  4.,  2.,  0.,  2.,  4.,  6.,  0.,  3.,  3.,  1.,  1.,\n",
      "         2.,  9.,  1.,  5.,  1.,  0.,  3.,  8.,  3.,  6.,  2.,  3.,  4.,\n",
      "         6.,  4.,  5.,  4.,  0.,  7.,  4.,  6.,  8.,  1.,  0.,  5.,  8.,\n",
      "         4.,  0.,  6.,  3.,  9.,  8.,  2.,  4.,  0.,  3.,  2.,  9.,  1.,\n",
      "         6.,  6.,  7.,  0.,  0.,  9.,  1.,  3.,  8.,  2.,  9.,  8.,  2.,\n",
      "         7.,  8.,  3.,  6.,  7.,  8.,  9.,  4.,  4.]]), edges=array([[946],\n",
      "       [946]], dtype=int32), receivers=array([0, 1], dtype=int32), senders=array([1, 0], dtype=int32), globals=None, n_node=array([2], dtype=int32), n_edge=array([2], dtype=int32))\n",
      "Input Graphs:  GraphsTuple(nodes=array([[ 5.,  4.,  3.,  9.,  5.,  0.,  4.,  0.,  7.,  1.,  4.,  3.,  9.,\n",
      "         3.,  4.,  4.,  0.,  1.,  4.,  4.,  7.,  1.,  6.,  1.,  3.,  2.,\n",
      "         2.,  7.,  3.,  4.,  5.,  4.,  4.,  3.,  4.,  5.,  0.,  6.,  4.,\n",
      "         8.,  2.,  0.,  9.,  1.,  5.,  9.,  1.,  3.,  1.,  6.,  8.,  4.,\n",
      "         7.,  7.,  8.,  9.,  4.,  3.,  4.,  9.,  9.,  2.,  0.,  5.,  7.,\n",
      "         0.,  6.,  0.,  8.,  1.,  0.,  0.,  7.,  2.,  6.,  6.,  3.,  2.,\n",
      "         7.,  5.,  3.,  3.,  2.,  3.,  2.,  4.,  2.,  5.,  0.,  0.,  8.,\n",
      "         0.,  7.,  9.,  0.,  0.,  0.,  1.,  0.,  0.],\n",
      "       [ 1.,  6.,  3.,  3.,  6.,  0.,  0.,  7.,  7.,  7.,  2.,  3.,  7.,\n",
      "         6.,  9.,  6.,  8.,  9.,  0.,  3.,  4.,  7.,  4.,  4.,  8.,  6.,\n",
      "         4.,  5.,  0.,  0.,  2.,  4.,  9.,  4.,  1.,  6.,  9.,  4.,  6.,\n",
      "         5.,  4.,  3.,  2.,  5.,  7.,  0.,  0.,  5.,  1.,  7.,  6.,  1.,\n",
      "         8.,  2.,  0.,  3.,  9.,  8.,  2.,  1.,  2.,  4.,  5.,  0.,  8.,\n",
      "         8.,  6.,  6.,  1.,  5.,  2.,  5.,  3.,  7.,  9.,  7.,  5.,  1.,\n",
      "         5.,  3.,  7.,  6.,  3.,  0.,  9.,  7.,  5.,  4.,  1.,  9.,  9.,\n",
      "         5.,  9.,  1.,  0.,  1.,  1.,  6.,  2.,  9.]]), edges=None, receivers=array([0, 1], dtype=int32), senders=array([1, 0], dtype=int32), globals=None, n_node=array([2], dtype=int32), n_edge=array([2], dtype=int32))\n",
      "Target Graphs:  GraphsTuple(nodes=array([[ 5.,  4.,  3.,  9.,  5.,  0.,  4.,  0.,  7.,  1.,  4.,  3.,  9.,\n",
      "         3.,  4.,  4.,  0.,  1.,  4.,  4.,  7.,  1.,  6.,  1.,  3.,  2.,\n",
      "         2.,  7.,  3.,  4.,  5.,  4.,  4.,  3.,  4.,  5.,  0.,  6.,  4.,\n",
      "         8.,  2.,  0.,  9.,  1.,  5.,  9.,  1.,  3.,  1.,  6.,  8.,  4.,\n",
      "         7.,  7.,  8.,  9.,  4.,  3.,  4.,  9.,  9.,  2.,  0.,  5.,  7.,\n",
      "         0.,  6.,  0.,  8.,  1.,  0.,  0.,  7.,  2.,  6.,  6.,  3.,  2.,\n",
      "         7.,  5.,  3.,  3.,  2.,  3.,  2.,  4.,  2.,  5.,  0.,  0.,  8.,\n",
      "         0.,  7.,  9.,  0.,  0.,  0.,  1.,  0.,  0.],\n",
      "       [ 1.,  6.,  3.,  3.,  6.,  0.,  0.,  7.,  7.,  7.,  2.,  3.,  7.,\n",
      "         6.,  9.,  6.,  8.,  9.,  0.,  3.,  4.,  7.,  4.,  4.,  8.,  6.,\n",
      "         4.,  5.,  0.,  0.,  2.,  4.,  9.,  4.,  1.,  6.,  9.,  4.,  6.,\n",
      "         5.,  4.,  3.,  2.,  5.,  7.,  0.,  0.,  5.,  1.,  7.,  6.,  1.,\n",
      "         8.,  2.,  0.,  3.,  9.,  8.,  2.,  1.,  2.,  4.,  5.,  0.,  8.,\n",
      "         8.,  6.,  6.,  1.,  5.,  2.,  5.,  3.,  7.,  9.,  7.,  5.,  1.,\n",
      "         5.,  3.,  7.,  6.,  3.,  0.,  9.,  7.,  5.,  4.,  1.,  9.,  9.,\n",
      "         5.,  9.,  1.,  0.,  1.,  1.,  6.,  2.,  9.]]), edges=array([[1014],\n",
      "       [1014]], dtype=int32), receivers=array([0, 1], dtype=int32), senders=array([1, 0], dtype=int32), globals=None, n_node=array([2], dtype=int32), n_edge=array([2], dtype=int32))\n"
     ]
    }
   ],
   "source": [
    "with tf.Session() as sess:\n",
    "    for _ in range(3):\n",
    "        feed_dict = create_feed_dict(1, input_ph, target_ph)\n",
    "        inputs_graphs, targets_graphs = sess.run([input_out, target_out], feed_dict=feed_dict)\n",
    "        print(\"Input Graphs: \",inputs_graphs)\n",
    "        print(\"Target Graphs: \", targets_graphs)"
   ]
  },
  {
   "cell_type": "code",
   "execution_count": 894,
   "metadata": {},
   "outputs": [],
   "source": [
    "def compute_accuracy(target, output):\n",
    "    \"\"\"Computes symmetric mean absolute percentage error and solved accuracy of the final graph. Returns fraction of correctly solved cardinalities\n",
    "    \n",
    "        Target is the target graph\n",
    "        Output is the output graph\"\"\"\n",
    "    target_dicts = utils_np.graphs_tuple_to_data_dicts(target)\n",
    "    output_dicts = utils_np.graphs_tuple_to_data_dicts(output)\n",
    "    percent_difference = []\n",
    "    correctly_solved = []\n",
    "    for td, od in zip(target_dicts, output_dicts):\n",
    "        is_equal = np.equal(od['edges'], td['edges'])\n",
    "        numerator = np.absolute(od['edges']-td['edges'])\n",
    "        denom = np.absolute(od['edges']) + np.absolute(td['edges'])\n",
    "        denom = np.where(is_equal, [1, 1], denom)\n",
    "        pd = np.mean(np.divide(numerator, denom))\n",
    "        percent_difference.append(pd)\n",
    "        correctly_solved.append(np.equal(np.round(np.mean(od['edges'])), np.mean(td['edges'])))\n",
    "    correct = np.mean(correctly_solved)\n",
    "    pd = np.mean(percent_difference)\n",
    "    return pd, correct\n",
    "\n",
    "def compute_classification_accuracy(target, output):\n",
    "    return 1, 1"
   ]
  },
  {
   "cell_type": "code",
   "execution_count": 895,
   "metadata": {},
   "outputs": [],
   "source": [
    "def create_loss_ops(target_op, output_ops):\n",
    "    if not isinstance(output_ops, collections.Sequence):\n",
    "        output_ops = [output_ops]\n",
    "    \n",
    "    loss_ops = [\n",
    "        tf.losses.mean_squared_error(target_op.edges, output_op.edges) for output_op in output_ops\n",
    "    ]\n",
    "    \n",
    "    return loss_ops"
   ]
  },
  {
   "cell_type": "code",
   "execution_count": 896,
   "metadata": {},
   "outputs": [],
   "source": [
    "def create_l1_loss_ops(target_op, output_ops):\n",
    "    if not isinstance(output_ops, collections.Sequence):\n",
    "        output_ops = [output_ops]\n",
    "    \n",
    "    loss_ops = [\n",
    "        tf.losses.absolute_difference(target_op.edges, output_op.edges) for output_op in output_ops\n",
    "    ]\n",
    "    \n",
    "    return loss_ops"
   ]
  },
  {
   "cell_type": "code",
   "execution_count": 897,
   "metadata": {},
   "outputs": [],
   "source": [
    "def create_softmax_loss_ops(target_op, output_ops):\n",
    "    if not isinstance(output_ops, collections.Sequence):\n",
    "        output_ops = [output_ops]\n",
    "    \n",
    "    loss_ops = [\n",
    "        tf.losses.softmax_cross_entropy(target_op.edges, output_op.edges)\n",
    "        for output_op in output_ops\n",
    "    ]\n",
    "    \n",
    "    return loss_ops"
   ]
  },
  {
   "cell_type": "code",
   "execution_count": 898,
   "metadata": {},
   "outputs": [],
   "source": [
    "tf.reset_default_graph()\n",
    "\n",
    "# seed = 3\n",
    "# rand = np.random.RandomState(seed=seed)"
   ]
  },
  {
   "cell_type": "code",
   "execution_count": 899,
   "metadata": {},
   "outputs": [],
   "source": [
    "num_processing_steps_tr = 10\n",
    "num_processing_steps_ge = 10\n",
    "\n",
    "num_training_iterations = 3000\n",
    "batch_size_tr = 32\n",
    "batch_size_ge = 105"
   ]
  },
  {
   "cell_type": "code",
   "execution_count": 900,
   "metadata": {},
   "outputs": [],
   "source": [
    "input_ph, target_ph = create_placeholders(batch_size_tr)\n",
    "input_ph_dummy = utils_tf.set_zero_edge_features(input_ph, 1, dtype=tf.float64)\n",
    "input_ph_dummy = utils_tf.set_zero_global_features(input_ph_dummy, 1, dtype=tf.float64)\n",
    "\n",
    "model = models.EncodeProcessDecode(edge_output_size=1, node_output_size=None)\n",
    "output_ops_tr = model(input_ph_dummy, num_processing_steps_tr)\n",
    "output_ops_ge = model(input_ph_dummy, num_processing_steps_ge)"
   ]
  },
  {
   "cell_type": "code",
   "execution_count": 901,
   "metadata": {},
   "outputs": [
    {
     "name": "stderr",
     "output_type": "stream",
     "text": [
      "/home/amogkamsetty/anaconda3/envs/env_full_py3/lib/python3.5/site-packages/tensorflow/python/ops/gradients_impl.py:108: UserWarning: Converting sparse IndexedSlices to a dense Tensor of unknown shape. This may consume a large amount of memory.\n",
      "  \"Converting sparse IndexedSlices to a dense Tensor of unknown shape. \"\n"
     ]
    }
   ],
   "source": [
    "# Loss.\n",
    "loss_ops_tr = create_l1_loss_ops(target_ph, output_ops_tr)\n",
    "#loss_ops_tr = create_softmax_loss_ops(target_ph, output_ops_tr)\n",
    "loss_op_tr = sum(loss_ops_tr) / num_processing_steps_tr  # loss_ops_tr\n",
    "#loss_ops_ge = create_softmax_loss_ops(target_ph, output_ops_ge)\n",
    "loss_ops_ge = create_l1_loss_ops(target_ph, output_ops_tr)\n",
    "loss_op_ge = loss_ops_ge[-1]\n",
    "\n",
    "# Optimizer.\n",
    "learning_rate = 1e-3\n",
    "optimizer = tf.train.AdamOptimizer(learning_rate)\n",
    "step_op = optimizer.minimize(loss_op_tr)"
   ]
  },
  {
   "cell_type": "code",
   "execution_count": 902,
   "metadata": {},
   "outputs": [],
   "source": [
    "input_out, target_out = make_all_runnable_in_session(input_ph, target_ph)"
   ]
  },
  {
   "cell_type": "code",
   "execution_count": 903,
   "metadata": {},
   "outputs": [],
   "source": [
    "# This cell resets the Tensorflow session, but keeps the same computational\n",
    "# graph.\n",
    "\n",
    "try:\n",
    "  sess.close()\n",
    "except NameError:\n",
    "  pass\n",
    "sess = tf.Session()\n",
    "sess.run(tf.global_variables_initializer())\n",
    "\n",
    "last_iteration = 0\n",
    "logged_iterations = []\n",
    "losses_tr = []\n",
    "corrects_tr = []\n",
    "solveds_tr = []\n",
    "losses_ge = []\n",
    "corrects_ge = []\n",
    "solveds_ge = []"
   ]
  },
  {
   "cell_type": "code",
   "execution_count": 904,
   "metadata": {},
   "outputs": [
    {
     "name": "stdout",
     "output_type": "stream",
     "text": [
      "# (iteration number), T (elapsed seconds), Ltr (training loss), Lge (test/generalization loss), Ctr (training fraction nodes/edges labeled correctly), Str (training fraction examples solved correctly), Cge (test/generalization fraction nodes/edges labeled correctly), Sge (test/generalization fraction examples solved correctly)\n",
      "# 00079, T 22.3, Ltr 1001.6959, Lge 992.9273, Pdtr 0.0000, Ctr 0.0000, Pdge 0.0000, Cge 0.0000\n",
      "# 00288, T 40.5, Ltr 975.0672, Lge 975.8417, Pdtr 0.0000, Ctr 0.0000, Pdge 0.0000, Cge 0.0000\n",
      "# 00508, T 60.5, Ltr 951.2288, Lge 944.3151, Pdtr 0.0000, Ctr 0.0000, Pdge 0.0000, Cge 0.0000\n",
      "# 00730, T 80.4, Ltr 907.7233, Lge 898.4662, Pdtr 0.0000, Ctr 0.0000, Pdge 0.0000, Cge 0.0000\n",
      "# 00948, T 100.5, Ltr 839.7448, Lge 840.2728, Pdtr 0.0000, Ctr 0.0000, Pdge 0.0000, Cge 0.0000\n",
      "# 01166, T 120.5, Ltr 775.0416, Lge 769.7019, Pdtr 0.0000, Ctr 0.0000, Pdge 0.0000, Cge 0.0000\n",
      "# 01393, T 140.6, Ltr 687.0396, Lge 683.8022, Pdtr 0.0000, Ctr 0.0000, Pdge 0.0000, Cge 0.0000\n",
      "# 01609, T 160.9, Ltr 582.4794, Lge 590.9743, Pdtr 0.0000, Ctr 0.0000, Pdge 0.0000, Cge 0.0000\n",
      "# 01774, T 180.8, Ltr 515.0364, Lge 513.1523, Pdtr 0.0000, Ctr 0.0000, Pdge 0.0000, Cge 0.0000\n",
      "# 01971, T 200.8, Ltr 417.9651, Lge 412.7593, Pdtr 0.0000, Ctr 0.0000, Pdge 0.0000, Cge 0.0000\n",
      "# 02193, T 220.9, Ltr 301.2634, Lge 290.2953, Pdtr 0.0000, Ctr 0.0000, Pdge 0.0000, Cge 0.0000\n",
      "# 02424, T 240.9, Ltr 150.6579, Lge 152.8339, Pdtr 0.0000, Ctr 0.0000, Pdge 0.0000, Cge 0.0000\n",
      "# 02631, T 262.1, Ltr 31.7738, Lge 30.9599, Pdtr 0.0000, Ctr 0.0000, Pdge 0.0000, Cge 0.0000\n",
      "# 02784, T 281.3, Ltr 24.7620, Lge 21.6649, Pdtr 0.0000, Ctr 0.0000, Pdge 0.0000, Cge 0.0000\n",
      "# 02939, T 301.4, Ltr 22.7814, Lge 21.6775, Pdtr 0.0000, Ctr 0.0000, Pdge 0.0000, Cge 0.0000\n"
     ]
    }
   ],
   "source": [
    "# How much time between logging and printing the current results.\n",
    "log_every_seconds = 20\n",
    "\n",
    "print(\"# (iteration number), T (elapsed seconds), \"\n",
    "      \"Ltr (training loss), Lge (test/generalization loss), \"\n",
    "      \"Ctr (training fraction nodes/edges labeled correctly), \"\n",
    "      \"Str (training fraction examples solved correctly), \"\n",
    "      \"Cge (test/generalization fraction nodes/edges labeled correctly), \"\n",
    "      \"Sge (test/generalization fraction examples solved correctly)\")\n",
    "\n",
    "start_time = time.time()\n",
    "last_log_time = start_time\n",
    "for iteration in range(last_iteration, num_training_iterations):\n",
    "  last_iteration = iteration\n",
    "  feed_dict = create_feed_dict(batch_size_tr, input_ph, target_ph, testing=False)\n",
    "  train_values = sess.run({\n",
    "      \"step\": step_op,\n",
    "      \"inputs\": input_out,\n",
    "      \"targets\": target_out,\n",
    "      \"loss\": loss_op_tr,\n",
    "      \"outputs\": output_ops_tr\n",
    "  }, feed_dict = feed_dict)\n",
    "  #print(\"Input Graphs: \",train_values[\"inputs\"])\n",
    "  the_time = time.time()\n",
    "  elapsed_since_last_log = the_time - last_log_time\n",
    "  if elapsed_since_last_log > log_every_seconds:\n",
    "    last_log_time = the_time\n",
    "    feed_dict = create_feed_dict(\n",
    "        batch_size_ge, input_ph, target_ph, testing=True)\n",
    "    #print(feed_dict)\n",
    "    test_values = sess.run({\n",
    "        \"targets\": target_out,\n",
    "        \"loss\": loss_op_ge,\n",
    "        \"outputs\": output_ops_ge,\n",
    "    }, feed_dict=feed_dict)\n",
    "    #print(train_values[\"targets\"])\n",
    "    #print(train_values[\"outputs\"])\n",
    "    #pd_tr, correct_tr = compute_accuracy(train_values[\"targets\"],\n",
    "     #                                        train_values[\"outputs\"][-1])\n",
    "    #pd_ge, correct_ge = compute_accuracy(test_values[\"targets\"],\n",
    "     #                                        test_values[\"outputs\"][-1])\n",
    "    elapsed = time.time() - start_time\n",
    "    losses_tr.append(train_values[\"loss\"])\n",
    "    #corrects_tr.append(pd_tr)\n",
    "    #solveds_tr.append(correct_tr)\n",
    "    losses_ge.append(test_values[\"loss\"])\n",
    "    #solveds_ge.append(correct_ge)\n",
    "    #corrects_ge.append(pd_ge)\n",
    "    logged_iterations.append(iteration)\n",
    "    print(\"# {:05d}, T {:.1f}, Ltr {:.4f}, Lge {:.4f}, Pdtr {:.4f}, \"\n",
    "          \"Ctr {:.4f}, Pdge {:.4f}, Cge {:.4f}\".format(\n",
    "              iteration, elapsed, train_values[\"loss\"], test_values[\"loss\"], 0, 0, 0, 0))\n",
    "              #pd_tr, correct_tr, pd_ge, correct_ge))"
   ]
  },
  {
   "cell_type": "code",
   "execution_count": 848,
   "metadata": {},
   "outputs": [
    {
     "ename": "ValueError",
     "evalue": "x and y must have same first dimension, but have shapes (13,) and (0,)",
     "output_type": "error",
     "traceback": [
      "\u001b[0;31m---------------------------------------------------------------------------\u001b[0m",
      "\u001b[0;31mValueError\u001b[0m                                Traceback (most recent call last)",
      "\u001b[0;32m<ipython-input-848-4aae671917ec>\u001b[0m in \u001b[0;36m<module>\u001b[0;34m()\u001b[0m\n\u001b[1;32m     22\u001b[0m \u001b[0my_ge\u001b[0m \u001b[0;34m=\u001b[0m \u001b[0mcorrects_ge\u001b[0m\u001b[0;34m\u001b[0m\u001b[0m\n\u001b[1;32m     23\u001b[0m \u001b[0max\u001b[0m \u001b[0;34m=\u001b[0m \u001b[0mfig\u001b[0m\u001b[0;34m.\u001b[0m\u001b[0madd_subplot\u001b[0m\u001b[0;34m(\u001b[0m\u001b[0;36m1\u001b[0m\u001b[0;34m,\u001b[0m \u001b[0;36m3\u001b[0m\u001b[0;34m,\u001b[0m \u001b[0;36m2\u001b[0m\u001b[0;34m)\u001b[0m\u001b[0;34m\u001b[0m\u001b[0m\n\u001b[0;32m---> 24\u001b[0;31m \u001b[0max\u001b[0m\u001b[0;34m.\u001b[0m\u001b[0mplot\u001b[0m\u001b[0;34m(\u001b[0m\u001b[0mx\u001b[0m\u001b[0;34m,\u001b[0m \u001b[0my_tr\u001b[0m\u001b[0;34m,\u001b[0m \u001b[0;34m\"k\"\u001b[0m\u001b[0;34m,\u001b[0m \u001b[0mlabel\u001b[0m\u001b[0;34m=\u001b[0m\u001b[0;34m\"Training\"\u001b[0m\u001b[0;34m)\u001b[0m\u001b[0;34m\u001b[0m\u001b[0m\n\u001b[0m\u001b[1;32m     25\u001b[0m \u001b[0max\u001b[0m\u001b[0;34m.\u001b[0m\u001b[0mplot\u001b[0m\u001b[0;34m(\u001b[0m\u001b[0mx\u001b[0m\u001b[0;34m,\u001b[0m \u001b[0my_ge\u001b[0m\u001b[0;34m,\u001b[0m \u001b[0;34m\"k--\"\u001b[0m\u001b[0;34m,\u001b[0m \u001b[0mlabel\u001b[0m\u001b[0;34m=\u001b[0m\u001b[0;34m\"Test/generalization\"\u001b[0m\u001b[0;34m)\u001b[0m\u001b[0;34m\u001b[0m\u001b[0m\n\u001b[1;32m     26\u001b[0m \u001b[0max\u001b[0m\u001b[0;34m.\u001b[0m\u001b[0mset_title\u001b[0m\u001b[0;34m(\u001b[0m\u001b[0;34m\"SMAPE across training\"\u001b[0m\u001b[0;34m)\u001b[0m\u001b[0;34m\u001b[0m\u001b[0m\n",
      "\u001b[0;32m~/anaconda3/envs/env_full_py3/lib/python3.5/site-packages/matplotlib/__init__.py\u001b[0m in \u001b[0;36minner\u001b[0;34m(ax, *args, **kwargs)\u001b[0m\n\u001b[1;32m   1708\u001b[0m                     warnings.warn(msg % (label_namer, func.__name__),\n\u001b[1;32m   1709\u001b[0m                                   RuntimeWarning, stacklevel=2)\n\u001b[0;32m-> 1710\u001b[0;31m             \u001b[0;32mreturn\u001b[0m \u001b[0mfunc\u001b[0m\u001b[0;34m(\u001b[0m\u001b[0max\u001b[0m\u001b[0;34m,\u001b[0m \u001b[0;34m*\u001b[0m\u001b[0margs\u001b[0m\u001b[0;34m,\u001b[0m \u001b[0;34m**\u001b[0m\u001b[0mkwargs\u001b[0m\u001b[0;34m)\u001b[0m\u001b[0;34m\u001b[0m\u001b[0m\n\u001b[0m\u001b[1;32m   1711\u001b[0m         \u001b[0mpre_doc\u001b[0m \u001b[0;34m=\u001b[0m \u001b[0minner\u001b[0m\u001b[0;34m.\u001b[0m\u001b[0m__doc__\u001b[0m\u001b[0;34m\u001b[0m\u001b[0m\n\u001b[1;32m   1712\u001b[0m         \u001b[0;32mif\u001b[0m \u001b[0mpre_doc\u001b[0m \u001b[0;32mis\u001b[0m \u001b[0;32mNone\u001b[0m\u001b[0;34m:\u001b[0m\u001b[0;34m\u001b[0m\u001b[0m\n",
      "\u001b[0;32m~/anaconda3/envs/env_full_py3/lib/python3.5/site-packages/matplotlib/axes/_axes.py\u001b[0m in \u001b[0;36mplot\u001b[0;34m(self, *args, **kwargs)\u001b[0m\n\u001b[1;32m   1435\u001b[0m         \u001b[0mkwargs\u001b[0m \u001b[0;34m=\u001b[0m \u001b[0mcbook\u001b[0m\u001b[0;34m.\u001b[0m\u001b[0mnormalize_kwargs\u001b[0m\u001b[0;34m(\u001b[0m\u001b[0mkwargs\u001b[0m\u001b[0;34m,\u001b[0m \u001b[0m_alias_map\u001b[0m\u001b[0;34m)\u001b[0m\u001b[0;34m\u001b[0m\u001b[0m\n\u001b[1;32m   1436\u001b[0m \u001b[0;34m\u001b[0m\u001b[0m\n\u001b[0;32m-> 1437\u001b[0;31m         \u001b[0;32mfor\u001b[0m \u001b[0mline\u001b[0m \u001b[0;32min\u001b[0m \u001b[0mself\u001b[0m\u001b[0;34m.\u001b[0m\u001b[0m_get_lines\u001b[0m\u001b[0;34m(\u001b[0m\u001b[0;34m*\u001b[0m\u001b[0margs\u001b[0m\u001b[0;34m,\u001b[0m \u001b[0;34m**\u001b[0m\u001b[0mkwargs\u001b[0m\u001b[0;34m)\u001b[0m\u001b[0;34m:\u001b[0m\u001b[0;34m\u001b[0m\u001b[0m\n\u001b[0m\u001b[1;32m   1438\u001b[0m             \u001b[0mself\u001b[0m\u001b[0;34m.\u001b[0m\u001b[0madd_line\u001b[0m\u001b[0;34m(\u001b[0m\u001b[0mline\u001b[0m\u001b[0;34m)\u001b[0m\u001b[0;34m\u001b[0m\u001b[0m\n\u001b[1;32m   1439\u001b[0m             \u001b[0mlines\u001b[0m\u001b[0;34m.\u001b[0m\u001b[0mappend\u001b[0m\u001b[0;34m(\u001b[0m\u001b[0mline\u001b[0m\u001b[0;34m)\u001b[0m\u001b[0;34m\u001b[0m\u001b[0m\n",
      "\u001b[0;32m~/anaconda3/envs/env_full_py3/lib/python3.5/site-packages/matplotlib/axes/_base.py\u001b[0m in \u001b[0;36m_grab_next_args\u001b[0;34m(self, *args, **kwargs)\u001b[0m\n\u001b[1;32m    402\u001b[0m                 \u001b[0mthis\u001b[0m \u001b[0;34m+=\u001b[0m \u001b[0margs\u001b[0m\u001b[0;34m[\u001b[0m\u001b[0;36m0\u001b[0m\u001b[0;34m]\u001b[0m\u001b[0;34m,\u001b[0m\u001b[0;34m\u001b[0m\u001b[0m\n\u001b[1;32m    403\u001b[0m                 \u001b[0margs\u001b[0m \u001b[0;34m=\u001b[0m \u001b[0margs\u001b[0m\u001b[0;34m[\u001b[0m\u001b[0;36m1\u001b[0m\u001b[0;34m:\u001b[0m\u001b[0;34m]\u001b[0m\u001b[0;34m\u001b[0m\u001b[0m\n\u001b[0;32m--> 404\u001b[0;31m             \u001b[0;32mfor\u001b[0m \u001b[0mseg\u001b[0m \u001b[0;32min\u001b[0m \u001b[0mself\u001b[0m\u001b[0;34m.\u001b[0m\u001b[0m_plot_args\u001b[0m\u001b[0;34m(\u001b[0m\u001b[0mthis\u001b[0m\u001b[0;34m,\u001b[0m \u001b[0mkwargs\u001b[0m\u001b[0;34m)\u001b[0m\u001b[0;34m:\u001b[0m\u001b[0;34m\u001b[0m\u001b[0m\n\u001b[0m\u001b[1;32m    405\u001b[0m                 \u001b[0;32myield\u001b[0m \u001b[0mseg\u001b[0m\u001b[0;34m\u001b[0m\u001b[0m\n\u001b[1;32m    406\u001b[0m \u001b[0;34m\u001b[0m\u001b[0m\n",
      "\u001b[0;32m~/anaconda3/envs/env_full_py3/lib/python3.5/site-packages/matplotlib/axes/_base.py\u001b[0m in \u001b[0;36m_plot_args\u001b[0;34m(self, tup, kwargs)\u001b[0m\n\u001b[1;32m    382\u001b[0m             \u001b[0mx\u001b[0m\u001b[0;34m,\u001b[0m \u001b[0my\u001b[0m \u001b[0;34m=\u001b[0m \u001b[0mindex_of\u001b[0m\u001b[0;34m(\u001b[0m\u001b[0mtup\u001b[0m\u001b[0;34m[\u001b[0m\u001b[0;34m-\u001b[0m\u001b[0;36m1\u001b[0m\u001b[0;34m]\u001b[0m\u001b[0;34m)\u001b[0m\u001b[0;34m\u001b[0m\u001b[0m\n\u001b[1;32m    383\u001b[0m \u001b[0;34m\u001b[0m\u001b[0m\n\u001b[0;32m--> 384\u001b[0;31m         \u001b[0mx\u001b[0m\u001b[0;34m,\u001b[0m \u001b[0my\u001b[0m \u001b[0;34m=\u001b[0m \u001b[0mself\u001b[0m\u001b[0;34m.\u001b[0m\u001b[0m_xy_from_xy\u001b[0m\u001b[0;34m(\u001b[0m\u001b[0mx\u001b[0m\u001b[0;34m,\u001b[0m \u001b[0my\u001b[0m\u001b[0;34m)\u001b[0m\u001b[0;34m\u001b[0m\u001b[0m\n\u001b[0m\u001b[1;32m    385\u001b[0m \u001b[0;34m\u001b[0m\u001b[0m\n\u001b[1;32m    386\u001b[0m         \u001b[0;32mif\u001b[0m \u001b[0mself\u001b[0m\u001b[0;34m.\u001b[0m\u001b[0mcommand\u001b[0m \u001b[0;34m==\u001b[0m \u001b[0;34m'plot'\u001b[0m\u001b[0;34m:\u001b[0m\u001b[0;34m\u001b[0m\u001b[0m\n",
      "\u001b[0;32m~/anaconda3/envs/env_full_py3/lib/python3.5/site-packages/matplotlib/axes/_base.py\u001b[0m in \u001b[0;36m_xy_from_xy\u001b[0;34m(self, x, y)\u001b[0m\n\u001b[1;32m    241\u001b[0m         \u001b[0;32mif\u001b[0m \u001b[0mx\u001b[0m\u001b[0;34m.\u001b[0m\u001b[0mshape\u001b[0m\u001b[0;34m[\u001b[0m\u001b[0;36m0\u001b[0m\u001b[0;34m]\u001b[0m \u001b[0;34m!=\u001b[0m \u001b[0my\u001b[0m\u001b[0;34m.\u001b[0m\u001b[0mshape\u001b[0m\u001b[0;34m[\u001b[0m\u001b[0;36m0\u001b[0m\u001b[0;34m]\u001b[0m\u001b[0;34m:\u001b[0m\u001b[0;34m\u001b[0m\u001b[0m\n\u001b[1;32m    242\u001b[0m             raise ValueError(\"x and y must have same first dimension, but \"\n\u001b[0;32m--> 243\u001b[0;31m                              \"have shapes {} and {}\".format(x.shape, y.shape))\n\u001b[0m\u001b[1;32m    244\u001b[0m         \u001b[0;32mif\u001b[0m \u001b[0mx\u001b[0m\u001b[0;34m.\u001b[0m\u001b[0mndim\u001b[0m \u001b[0;34m>\u001b[0m \u001b[0;36m2\u001b[0m \u001b[0;32mor\u001b[0m \u001b[0my\u001b[0m\u001b[0;34m.\u001b[0m\u001b[0mndim\u001b[0m \u001b[0;34m>\u001b[0m \u001b[0;36m2\u001b[0m\u001b[0;34m:\u001b[0m\u001b[0;34m\u001b[0m\u001b[0m\n\u001b[1;32m    245\u001b[0m             raise ValueError(\"x and y can be no greater than 2-D, but have \"\n",
      "\u001b[0;31mValueError\u001b[0m: x and y must have same first dimension, but have shapes (13,) and (0,)"
     ]
    },
    {
     "data": {
      "image/png": "[encoded data removed]",
      "text/plain": [
       "<matplotlib.figure.Figure at 0x7f888a9457b8>"
      ]
     },
     "metadata": {},
     "output_type": "display_data"
    }
   ],
   "source": [
    "# This cell visualizes the results of training. You can visualize the\n",
    "# intermediate results by interrupting execution of the cell above, and running\n",
    "# this cell. You can then resume training by simply executing the above cell\n",
    "# again.\n",
    "\n",
    "# Plot results curves.\n",
    "fig = plt.figure(11, figsize=(18, 3))\n",
    "fig.clf()\n",
    "x = np.array(logged_iterations)\n",
    "# Loss.\n",
    "y_tr = losses_tr\n",
    "y_ge = losses_ge\n",
    "ax = fig.add_subplot(1, 3, 1)\n",
    "ax.plot(x, y_tr, \"k\", label=\"Training\")\n",
    "ax.plot(x, y_ge, \"k--\", label=\"Test/generalization\")\n",
    "ax.set_title(\"Loss across training\")\n",
    "ax.set_xlabel(\"Training iteration\")\n",
    "ax.set_ylabel(\"Loss (Absolute Difference Error)\")\n",
    "ax.legend()\n",
    "# Correct.\n",
    "y_tr = corrects_tr\n",
    "y_ge = corrects_ge\n",
    "ax = fig.add_subplot(1, 3, 2)\n",
    "ax.plot(x, y_tr, \"k\", label=\"Training\")\n",
    "ax.plot(x, y_ge, \"k--\", label=\"Test/generalization\")\n",
    "ax.set_title(\"SMAPE across training\")\n",
    "ax.set_xlabel(\"Training iteration\")\n",
    "ax.set_ylabel(\"SMAPE\")\n",
    "# Solved.\n",
    "y_tr = solveds_tr\n",
    "y_ge = solveds_ge\n",
    "ax = fig.add_subplot(1, 3, 3)\n",
    "ax.plot(x, y_tr, \"k\", label=\"Training\")\n",
    "ax.plot(x, y_ge, \"k--\", label=\"Test/generalization\")\n",
    "ax.set_title(\"Fraction solved across training\")\n",
    "ax.set_xlabel(\"Training iteration\")\n",
    "ax.set_ylabel(\"Fraction examples solved\")"
   ]
  },
  {
   "cell_type": "code",
   "execution_count": null,
   "metadata": {},
   "outputs": [],
   "source": [
    "l = []\n",
    "for i in test:\n",
    "    l.extend(i[0])\n",
    "plt.hist(l)"
   ]
  },
  {
   "cell_type": "code",
   "execution_count": null,
   "metadata": {},
   "outputs": [],
   "source": [
    "cardinalities = []\n",
    "for combo in list(itertools.combinations(range(15), 2)):\n",
    "    i1 = combo[0]\n",
    "    i2 = combo[1]\n",
    "    data1 = test[i1][0]\n",
    "    data2 = test[i2][0]\n",
    "    card = cardinality(data1, data2)\n",
    "    cardinalities.append(card)\n",
    "plt.hist(cardinalities, bins=19)"
   ]
  },
  {
   "cell_type": "code",
   "execution_count": 912,
   "metadata": {},
   "outputs": [
    {
     "data": {
      "text/plain": [
       "array([[ 1000.65538291],\n",
       "       [ 1000.65615639],\n",
       "       [ 1000.65557042],\n",
       "       [ 1000.65907184],\n",
       "       [ 1000.65879409],\n",
       "       [ 1000.65913689],\n",
       "       [ 1000.65756173],\n",
       "       [ 1000.65825223],\n",
       "       [ 1000.65799393],\n",
       "       [ 1000.65439178],\n",
       "       [ 1000.65489675],\n",
       "       [ 1000.65766688],\n",
       "       [ 1000.65749853],\n",
       "       [ 1000.65733925],\n",
       "       [ 1000.65899643],\n",
       "       [ 1000.65924845],\n",
       "       [ 1000.65787156],\n",
       "       [ 1000.6558729 ],\n",
       "       [ 1000.65803025],\n",
       "       [ 1000.65439906],\n",
       "       [ 1000.65879684],\n",
       "       [ 1000.65698113],\n",
       "       [ 1000.65795469],\n",
       "       [ 1000.65699034],\n",
       "       [ 1000.65516335],\n",
       "       [ 1000.65913494],\n",
       "       [ 1000.65792141],\n",
       "       [ 1000.65678222],\n",
       "       [ 1000.65139241],\n",
       "       [ 1000.6540059 ],\n",
       "       [ 1000.6552805 ],\n",
       "       [ 1000.65905406],\n",
       "       [ 1000.65861842],\n",
       "       [ 1000.65680324],\n",
       "       [ 1000.65815887],\n",
       "       [ 1000.65744746],\n",
       "       [ 1000.65861963],\n",
       "       [ 1000.65690552],\n",
       "       [ 1000.65862462],\n",
       "       [ 1000.65869732],\n",
       "       [ 1000.65804021],\n",
       "       [ 1000.65809934],\n",
       "       [ 1000.65493649],\n",
       "       [ 1000.65607241],\n",
       "       [ 1000.65657292],\n",
       "       [ 1000.66060178],\n",
       "       [ 1000.65774525],\n",
       "       [ 1000.65824755],\n",
       "       [ 1000.65842452],\n",
       "       [ 1000.65776119],\n",
       "       [ 1000.65439474],\n",
       "       [ 1000.65636655],\n",
       "       [ 1000.65660706],\n",
       "       [ 1000.65319346],\n",
       "       [ 1000.65741645],\n",
       "       [ 1000.656856  ],\n",
       "       [ 1000.65763875],\n",
       "       [ 1000.65737324],\n",
       "       [ 1000.65640498],\n",
       "       [ 1000.65772644],\n",
       "       [ 1000.65885073],\n",
       "       [ 1000.65795714],\n",
       "       [ 1000.65820322],\n",
       "       [ 1000.6565683 ]])"
      ]
     },
     "execution_count": 912,
     "metadata": {},
     "output_type": "execute_result"
    }
   ],
   "source": [
    "train_values['outputs'][0].edges"
   ]
  },
  {
   "cell_type": "code",
   "execution_count": 697,
   "metadata": {},
   "outputs": [
    {
     "data": {
      "text/plain": [
       "GraphsTuple(nodes=array([[ 14.,  10.,   6.,  14.,   6.,  10.,  14.,   7.,  19.],\n",
       "       [  9.,   9.,  14.,   8.,   9.,  11.,  13.,  12.,  15.],\n",
       "       [ 14.,  10.,   7.,   9.,  11.,   8.,   9.,   8.,  24.],\n",
       "       [ 10.,  11.,   7.,   8.,  17.,  11.,  11.,   9.,  16.],\n",
       "       [  6.,  11.,  14.,   8.,  10.,  12.,   9.,   6.,  24.],\n",
       "       [  9.,   7.,  10.,  13.,  13.,  11.,   9.,   9.,  19.],\n",
       "       [ 13.,  13.,   6.,  12.,  10.,   8.,   7.,  12.,  19.],\n",
       "       [  6.,  13.,  11.,  10.,   7.,   8.,  12.,  11.,  22.],\n",
       "       [  7.,  12.,   9.,   6.,   6.,  18.,  11.,   7.,  24.],\n",
       "       [  9.,  11.,  10.,  19.,   3.,   8.,   7.,  13.,  20.],\n",
       "       [ 11.,  12.,  11.,   7.,  12.,   8.,  10.,  12.,  17.],\n",
       "       [  9.,   6.,  13.,   8.,  11.,   9.,   8.,  13.,  23.],\n",
       "       [  7.,  13.,  15.,   6.,   9.,   6.,   7.,  15.,  22.],\n",
       "       [ 16.,  10.,  11.,   9.,  12.,   8.,  16.,   6.,  12.],\n",
       "       [ 15.,   8.,  11.,  12.,  10.,   6.,   7.,  10.,  21.],\n",
       "       [  7.,   9.,   6.,  12.,   7.,  24.,   9.,   9.,  17.],\n",
       "       [ 15.,  11.,  17.,   7.,   6.,   7.,   9.,  10.,  18.],\n",
       "       [ 17.,   7.,  11.,  10.,   8.,  11.,  14.,   8.,  14.],\n",
       "       [  9.,  11.,  15.,   7.,  16.,   7.,   9.,   7.,  19.],\n",
       "       [ 10.,  15.,   5.,  14.,  11.,   8.,   7.,  10.,  20.],\n",
       "       [  6.,  12.,  19.,   8.,   7.,  11.,   8.,   9.,  20.],\n",
       "       [  8.,   5.,  14.,  10.,  10.,   8.,  10.,  14.,  21.],\n",
       "       [  7.,  10.,   5.,   6.,  19.,  11.,  10.,  11.,  21.],\n",
       "       [ 13.,  12.,   7.,   8.,  13.,  10.,  13.,  11.,  13.],\n",
       "       [  8.,   8.,  12.,  17.,   4.,  16.,   9.,  10.,  16.],\n",
       "       [ 12.,   7.,  11.,   9.,   6.,  13.,  10.,  11.,  21.],\n",
       "       [ 11.,   8.,   7.,   8.,  10.,   8.,  14.,  10.,  24.],\n",
       "       [ 10.,   5.,  11.,  11.,   5.,  14.,  10.,  10.,  24.],\n",
       "       [ 10.,   9.,  11.,   8.,   5.,   6.,  18.,   8.,  25.],\n",
       "       [  9.,  11.,  11.,  13.,   9.,  14.,   9.,   7.,  17.],\n",
       "       [ 10.,   6.,   9.,  15.,  10.,  12.,   9.,   8.,  21.],\n",
       "       [ 13.,   5.,  10.,  12.,   9.,  10.,  10.,  10.,  21.],\n",
       "       [ 11.,   5.,  10.,   5.,   9.,  13.,  14.,   9.,  24.],\n",
       "       [  9.,   8.,  12.,  12.,  10.,   8.,  11.,   9.,  21.],\n",
       "       [  5.,  10.,  11.,  11.,   9.,  12.,  13.,  11.,  18.],\n",
       "       [ 12.,  12.,  11.,  10.,   6.,  13.,  14.,   7.,  15.],\n",
       "       [ 10.,  10.,  14.,   7.,  12.,   8.,   5.,  12.,  22.],\n",
       "       [ 11.,   7.,  10.,   7.,  12.,  12.,  14.,   9.,  18.],\n",
       "       [  9.,   9.,  12.,   7.,   8.,   9.,   7.,  11.,  28.],\n",
       "       [ 10.,   9.,  10.,   8.,  11.,   9.,  12.,   6.,  25.],\n",
       "       [ 10.,   2.,   9.,   9.,  13.,   9.,  12.,  10.,  26.],\n",
       "       [  5.,  14.,   5.,  17.,  13.,   6.,  12.,   8.,  20.],\n",
       "       [ 14.,   7.,   9.,   7.,   7.,  15.,  11.,  13.,  17.],\n",
       "       [  7.,  10.,  14.,  10.,  10.,  11.,   9.,   6.,  23.],\n",
       "       [ 12.,   9.,  13.,  11.,   6.,  10.,   6.,  12.,  21.],\n",
       "       [ 10.,   8.,   9.,   8.,   6.,  13.,  12.,  14.,  20.],\n",
       "       [ 14.,  17.,  11.,  10.,   5.,   8.,  10.,   4.,  21.],\n",
       "       [ 11.,  10.,  15.,   9.,  12.,   9.,   9.,   6.,  19.],\n",
       "       [  9.,  13.,  14.,  12.,   9.,  10.,   7.,   8.,  18.],\n",
       "       [ 18.,  10.,   7.,   4.,  16.,   8.,   9.,   8.,  20.],\n",
       "       [ 11.,  12.,   5.,  11.,  10.,  13.,  13.,   4.,  21.],\n",
       "       [  5.,  14.,  10.,   7.,  13.,   9.,   7.,  11.,  24.],\n",
       "       [  9.,  11.,  12.,  11.,   7.,   8.,  10.,   7.,  25.],\n",
       "       [ 10.,   6.,   9.,   9.,  16.,  15.,   5.,   6.,  24.],\n",
       "       [ 11.,  11.,   6.,   7.,  12.,   9.,  10.,  13.,  21.],\n",
       "       [ 10.,  12.,   8.,   8.,   9.,   7.,  12.,  16.,  18.],\n",
       "       [  7.,  11.,  11.,  14.,  12.,   7.,   5.,  10.,  23.],\n",
       "       [  8.,   9.,  11.,  13.,  10.,  12.,   7.,  11.,  19.],\n",
       "       [  6.,  11.,  16.,  10.,   9.,   8.,  10.,   8.,  22.],\n",
       "       [ 11.,   9.,  11.,   8.,  13.,  11.,  15.,   9.,  13.],\n",
       "       [ 11.,  15.,  13.,   6.,  10.,   6.,   9.,  10.,  20.],\n",
       "       [  9.,   4.,  10.,  11.,  20.,   9.,   5.,  13.,  19.],\n",
       "       [ 11.,   9.,   6.,  17.,  15.,  12.,   8.,   6.,  16.],\n",
       "       [  6.,  10.,   8.,  11.,  12.,   8.,  14.,  11.,  20.]]), edges=array([[ 971],\n",
       "       [ 971],\n",
       "       [1013],\n",
       "       [1013],\n",
       "       [1001],\n",
       "       [1001],\n",
       "       [1001],\n",
       "       [1001],\n",
       "       [ 957],\n",
       "       [ 957],\n",
       "       [1013],\n",
       "       [1013],\n",
       "       [ 955],\n",
       "       [ 955],\n",
       "       [ 933],\n",
       "       [ 933],\n",
       "       [1050],\n",
       "       [1050],\n",
       "       [ 982],\n",
       "       [ 982],\n",
       "       [1031],\n",
       "       [1031],\n",
       "       [1037],\n",
       "       [1037],\n",
       "       [1049],\n",
       "       [1049],\n",
       "       [1001],\n",
       "       [1001],\n",
       "       [ 973],\n",
       "       [ 973],\n",
       "       [1033],\n",
       "       [1033],\n",
       "       [1006],\n",
       "       [1006],\n",
       "       [1010],\n",
       "       [1010],\n",
       "       [ 985],\n",
       "       [ 985],\n",
       "       [1015],\n",
       "       [1015],\n",
       "       [ 985],\n",
       "       [ 985],\n",
       "       [ 973],\n",
       "       [ 973],\n",
       "       [1023],\n",
       "       [1023],\n",
       "       [1022],\n",
       "       [1022],\n",
       "       [ 971],\n",
       "       [ 971],\n",
       "       [1004],\n",
       "       [1004],\n",
       "       [ 997],\n",
       "       [ 997],\n",
       "       [1031],\n",
       "       [1031],\n",
       "       [1021],\n",
       "       [1021],\n",
       "       [ 989],\n",
       "       [ 989],\n",
       "       [ 975],\n",
       "       [ 975],\n",
       "       [ 997],\n",
       "       [ 997]], dtype=int32), receivers=array([ 0,  1,  2,  3,  4,  5,  6,  7,  8,  9, 10, 11, 12, 13, 14, 15, 16,\n",
       "       17, 18, 19, 20, 21, 22, 23, 24, 25, 26, 27, 28, 29, 30, 31, 32, 33,\n",
       "       34, 35, 36, 37, 38, 39, 40, 41, 42, 43, 44, 45, 46, 47, 48, 49, 50,\n",
       "       51, 52, 53, 54, 55, 56, 57, 58, 59, 60, 61, 62, 63], dtype=int32), senders=array([ 1,  0,  3,  2,  5,  4,  7,  6,  9,  8, 11, 10, 13, 12, 15, 14, 17,\n",
       "       16, 19, 18, 21, 20, 23, 22, 25, 24, 27, 26, 29, 28, 31, 30, 33, 32,\n",
       "       35, 34, 37, 36, 39, 38, 41, 40, 43, 42, 45, 44, 47, 46, 49, 48, 51,\n",
       "       50, 53, 52, 55, 54, 57, 56, 59, 58, 61, 60, 63, 62], dtype=int32), globals=None, n_node=array([2, 2, 2, 2, 2, 2, 2, 2, 2, 2, 2, 2, 2, 2, 2, 2, 2, 2, 2, 2, 2, 2, 2,\n",
       "       2, 2, 2, 2, 2, 2, 2, 2, 2], dtype=int32), n_edge=array([2, 2, 2, 2, 2, 2, 2, 2, 2, 2, 2, 2, 2, 2, 2, 2, 2, 2, 2, 2, 2, 2, 2,\n",
       "       2, 2, 2, 2, 2, 2, 2, 2, 2], dtype=int32))"
      ]
     },
     "execution_count": 697,
     "metadata": {},
     "output_type": "execute_result"
    }
   ],
   "source": [
    "train_values['targets']"
   ]
  },
  {
   "cell_type": "code",
   "execution_count": 698,
   "metadata": {},
   "outputs": [
    {
     "data": {
      "text/plain": [
       "(array([  8.00000000e+00,   1.04000000e+02,   9.81000000e+02,\n",
       "          5.78400000e+03,   1.81770000e+04,   1.89230000e+04,\n",
       "          5.80800000e+03,   1.00000000e+03,   1.17000000e+02,\n",
       "          1.40000000e+01]),\n",
       " array([  843. ,   874.4,   905.8,   937.2,   968.6,  1000. ,  1031.4,\n",
       "         1062.8,  1094.2,  1125.6,  1157. ]),\n",
       " <a list of 10 Patch objects>)"
      ]
     },
     "execution_count": 698,
     "metadata": {},
     "output_type": "execute_result"
    },
    {
     "data": {
      "image/png": "[encoded data removed]",
      "text/plain": [
       "<matplotlib.figure.Figure at 0x7f889988ea90>"
      ]
     },
     "metadata": {},
     "output_type": "display_data"
    }
   ],
   "source": [
    "plt.hist(training_cards)"
   ]
  },
  {
   "cell_type": "code",
   "execution_count": 699,
   "metadata": {},
   "outputs": [
    {
     "data": {
      "text/plain": [
       "1000.0448974781993"
      ]
     },
     "execution_count": 699,
     "metadata": {},
     "output_type": "execute_result"
    }
   ],
   "source": [
    "np.mean(training_cards)"
   ]
  },
  {
   "cell_type": "code",
   "execution_count": null,
   "metadata": {},
   "outputs": [],
   "source": []
  }
 ],
 "metadata": {
  "kernelspec": {
   "display_name": "Python 3",
   "language": "python",
   "name": "python3"
  },
  "language_info": {
   "codemirror_mode": {
    "name": "ipython",
    "version": 3
   },
   "file_extension": ".py",
   "mimetype": "text/x-python",
   "name": "python",
   "nbconvert_exporter": "python",
   "pygments_lexer": "ipython3",
   "version": "3.5.4"
  }
 },
 "nbformat": 4,
 "nbformat_minor": 2
}
